{
  "nbformat": 4,
  "nbformat_minor": 0,
  "metadata": {
    "colab": {
      "provenance": []
    },
    "kernelspec": {
      "name": "python3",
      "display_name": "Python 3"
    },
    "language_info": {
      "name": "python"
    }
  },
  "cells": [
    {
      "cell_type": "code",
      "execution_count": 1,
      "metadata": {
        "id": "tlCc7VIaWfLi"
      },
      "outputs": [],
      "source": [
        "import networkx as nx\n",
        "import pandas as pd\n",
        "import matplotlib.pyplot as plt\n",
        "import urllib.request\n",
        "import io\n",
        "import numpy as np\n"
      ]
    },
    {
      "cell_type": "code",
      "source": [
        "def download_and_read_data():\n",
        "    #tải và đọc dữ liệu mxh facebook(từ SNAP)\n",
        "    url = 'https://snap.stanford.edu/data/facebook_combined.txt.gz'\n",
        "    response = urllib.request.urlopen(url)\n",
        "    data = response.read()\n",
        "\n",
        "    df = pd.read_csv(io.BytesIO(data), compression='gzip', sep=' ', names=['source', 'target'])\n",
        "    return df"
      ],
      "metadata": {
        "id": "SZF6Dp1cWfrW"
      },
      "execution_count": 7,
      "outputs": []
    },
    {
      "cell_type": "code",
      "source": [
        "def calculate_all_metrics(G):\n",
        "  #tính toán các số đo của đồ thị G:đồ thị networkx, dict:dictionary chứa số đo đồ thị\n",
        "  metrics = {}\n",
        "  metrics['nodes'] = G.number_of_nodes()\n",
        "  metrics['edges'] = G.number_of_edges()\n",
        "\n",
        "  metrics['density'] = nx.density(G)\n",
        "\n",
        "  metrics['average_degree'] = np.mean([d for n, d in G.degree()])\n",
        "  # 2. Degree metrics\n",
        "  degrees = dict(G.degree())\n",
        "  metrics['avg_degree'] = sum(degrees.values()) / len(degrees)\n",
        "  # Degree trung bình\n",
        "  # Công thức: <k> = (1/|V|) * Σ ki\n",
        "  # Trong đó:\n",
        "  # - |V|: số lượng đỉnh\n",
        "  # - ki: degree của đỉnh i\n",
        "  # Note: Trong đồ thị vô hướng: <k> = 2|E|/|V|\n",
        "\n",
        "  metrics['max_degree'] = max(degrees.values())\n",
        "  metrics['degrees'] = degrees\n",
        "\n",
        "  # 3. Degree Centrality\n",
        "  dc = nx.degree_centrality(G)\n",
        "  metrics['degree_centrality'] = {\n",
        "      'values': dc,\n",
        "      'max': max(dc.values()),\n",
        "      'avg': sum(dc.values()) / len(dc),\n",
        "      'node_max': max(dc, key=dc.get)\n",
        "  }\n",
        "  # Degree Centrality\n",
        "  # Công thức: CD(v) = deg(v)/(|V|-1)\n",
        "  # Trong đó:\n",
        "  # - deg(v): degree của đỉnh v\n",
        "  # - |V|-1: số lượng kết nối tối đa có thể có của một đỉnh\n",
        "\n",
        "  # 4. Betweenness Centrality\n",
        "  bc = nx.betweenness_centrality(G)\n",
        "  metrics['betweenness_centrality'] = {\n",
        "      'values': bc,\n",
        "      'max': max(bc.values()),\n",
        "      'avg': sum(bc.values()) / len(bc),\n",
        "      'node_max': max(bc, key=bc.get)\n",
        "  }\n",
        "  # Betweenness Centrality\n",
        "  # Công thức: CB(v) = Σ (σst(v)/σst)\n",
        "  # Trong đó:\n",
        "  # - σst: số đường đi ngắn nhất từ đỉnh s đến đỉnh t\n",
        "  # - σst(v): số đường đi ngắn nhất từ s đến t đi qua v\n",
        "  # - Tổng được tính trên mọi cặp đỉnh s,t khác v\n",
        "\n",
        "  # 5. Closeness Centrality\n",
        "  cc = nx.closeness_centrality(G)\n",
        "  metrics['closeness_centrality'] = {\n",
        "      'values': cc,\n",
        "      'max': max(cc.values()),\n",
        "      'avg': sum(cc.values()) / len(cc),\n",
        "      'node_max': max(cc, key=cc.get)\n",
        "  }\n",
        "  # Closeness Centrality\n",
        "  # Công thức: CC(v) = (|V|-1) / Σ d(v,u)\n",
        "  # Trong đó:\n",
        "  # - |V|-1: số đỉnh khác v\n",
        "  # - d(v,u): độ dài đường đi ngắn nhất từ v đến u\n",
        "  # - Tổng được tính trên mọi đỉnh u khác v\n",
        "\n",
        "  # 6. PageRank\n",
        "  pr = nx.pagerank(G, alpha=0.85)\n",
        "  metrics['pagerank'] = {\n",
        "      'values': pr,\n",
        "      'max': max(pr.values()),\n",
        "      'avg': sum(pr.values()) / len(pr),\n",
        "      'node_max': max(pr, key=pr.get)\n",
        "  }\n",
        "  # PageRank\n",
        "  # Công thức: PR(v) = (1-d) + d * Σ (PR(u)/OutDegree(u))\n",
        "  # Trong đó:\n",
        "  # - d: damping factor (thường = 0.85)\n",
        "  # - PR(u): PageRank của các đỉnh u kề với v\n",
        "  # - OutDegree(u): bậc ra của đỉnh u\n",
        "  # - Tổng được tính trên mọi đỉnh u kề với v\n",
        "\n",
        "  return metrics"
      ],
      "metadata": {
        "id": "xnwGcxh6YJpP"
      },
      "execution_count": 10,
      "outputs": []
    },
    {
      "cell_type": "code",
      "source": [
        "def print_detailed_results(metrics):\n",
        "  \"\"\"\n",
        "  In kết quả chi tiết của các phép đo\n",
        "  \"\"\"\n",
        "  print(\"\\n======== PHÂN TÍCH MẠNG XÃ HỘI ========= \")\n",
        "  print(\"1. Thông tin cơ bản\")\n",
        "  print(f\"- Số lượng nodes (người dùng): {metrics['nodes']}\")\n",
        "  print(f\"- Số lượng cạnh (kết nối): {metrics['edges']}\")\n",
        "  print(f\"- Mật độ: {metrics['density']}\")\n",
        "  print(f\"- Degree trung bình: {metrics['average_degree']}\")\n",
        "  print(f\"- Degree lớn nhất: {metrics['max_degree']}\")\n",
        "\n",
        "  centrality_measures = {\n",
        "        'Degree Centrality': 'degree_centrality',\n",
        "        'Betweenness Centrality': 'betweenness_centrality',\n",
        "        'Closeness Centrality': 'closeness_centrality',\n",
        "        'PageRank': 'pagerank'\n",
        "    }\n",
        "\n",
        "  print(\"2. Các số đo Centrality\")\n",
        "  for name, measure in centrality_measures.items():\n",
        "    print(f\"- {name}\")\n",
        "    print(f\"- Giá trị lớn nhất: {metrics[measure]['max']:.4f}\")\n",
        "    print(f\"- Giá trị trung bình: {metrics[measure]['avg']:.4f}\")\n",
        "    print(f\"- Node có giá trị cao nhất: {metrics[measure]['node_max']}\")"
      ],
      "metadata": {
        "id": "A6MhqAjJaIFx"
      },
      "execution_count": 11,
      "outputs": []
    },
    {
      "cell_type": "code",
      "source": [
        "df = download_and_read_data()\n",
        "df.head()\n",
        "G = nx.from_pandas_edgelist(df, 'source', 'target')\n",
        "metrics = calculate_all_metrics(G)\n",
        "print_detailed_results(metrics)"
      ],
      "metadata": {
        "colab": {
          "base_uri": "https://localhost:8080/"
        },
        "id": "LAy7aOMaXLIP",
        "outputId": "f8d587af-061f-4ba0-ece8-a7a5bec33f49"
      },
      "execution_count": 12,
      "outputs": [
        {
          "output_type": "stream",
          "name": "stdout",
          "text": [
            "\n",
            "======== PHÂN TÍCH MẠNG XÃ HỘI ========= \n",
            "1. Thông tin cơ bản\n",
            "- Số lượng nodes (người dùng): 4039\n",
            "- Số lượng cạnh (kết nối): 88234\n",
            "- Mật độ: 0.010819963503439287\n",
            "- Degree trung bình: 43.69101262688784\n",
            "- Degree lớn nhất: 1045\n",
            "2. Các số đo Centrality\n",
            "- Degree Centrality\n",
            "- Giá trị lớn nhất: 0.2588\n",
            "- Giá trị trung bình: 0.0108\n",
            "- Node có giá trị cao nhất: 107\n",
            "- Betweenness Centrality\n",
            "- Giá trị lớn nhất: 0.4805\n",
            "- Giá trị trung bình: 0.0007\n",
            "- Node có giá trị cao nhất: 107\n",
            "- Closeness Centrality\n",
            "- Giá trị lớn nhất: 0.4597\n",
            "- Giá trị trung bình: 0.2762\n",
            "- Node có giá trị cao nhất: 107\n",
            "- PageRank\n",
            "- Giá trị lớn nhất: 0.0076\n",
            "- Giá trị trung bình: 0.0002\n",
            "- Node có giá trị cao nhất: 3437\n"
          ]
        }
      ]
    },
    {
      "cell_type": "markdown",
      "source": [
        "# Xây dựng phương thức:\n",
        "# visualize_metrics trực quan hoá các số đo bằng biểu đồ\n",
        " tạo figure  với 2x2 subplots\n",
        "1. degree distribution\n",
        "2. centrality conparison\n",
        "3. top nodes comparison..."
      ],
      "metadata": {
        "id": "ca0BfqVnfwuD"
      }
    },
    {
      "cell_type": "code",
      "source": [],
      "metadata": {
        "id": "HXvz9R3AX62F"
      },
      "execution_count": null,
      "outputs": []
    }
  ]
}